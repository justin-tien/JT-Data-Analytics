{
  "nbformat": 4,
  "nbformat_minor": 0,
  "metadata": {
    "colab": {
      "provenance": []
    },
    "kernelspec": {
      "name": "python3",
      "display_name": "Python 3"
    },
    "language_info": {
      "name": "python"
    }
  },
  "cells": [
    {
      "cell_type": "code",
      "execution_count": 1,
      "metadata": {
        "id": "Gd0c54TFhAMZ"
      },
      "outputs": [],
      "source": [
        "import pandas as pd\n",
        "import numpy as np\n",
        "from sklearn.linear_model import LogisticRegression\n",
        "from sklearn.model_selection import train_test_split"
      ]
    },
    {
      "cell_type": "code",
      "source": [
        "voter20 = pd.read_excel(\"voter20.xlsx\")\n",
        "inter20 = pd.read_excel(\"inter20.xlsx\")"
      ],
      "metadata": {
        "id": "07rAwpiQhME0"
      },
      "execution_count": 2,
      "outputs": []
    },
    {
      "cell_type": "code",
      "source": [
        "voter20.head()"
      ],
      "metadata": {
        "colab": {
          "base_uri": "https://localhost:8080/",
          "height": 206
        },
        "id": "YLdIAnEUhRqN",
        "outputId": "bbfd3c18-e180-448a-a905-56ff454b54b2"
      },
      "execution_count": 3,
      "outputs": [
        {
          "output_type": "execute_result",
          "data": {
            "text/plain": [
              "        State  Percent registered\\n(Total)  Percent voted\\n(Total)   Turnout  \\\n",
              "0     ALABAMA                         67.0                    59.6  0.889552   \n",
              "1      ALASKA                         72.6                    62.4  0.859504   \n",
              "2     ARIZONA                         68.8                    64.7  0.940407   \n",
              "3    ARKANSAS                         59.6                    51.9  0.870805   \n",
              "4  CALIFORNIA                         59.3                    55.7  0.939292   \n",
              "\n",
              "   Label (>mean 0.915)  \n",
              "0                    0  \n",
              "1                    0  \n",
              "2                    1  \n",
              "3                    0  \n",
              "4                    1  "
            ],
            "text/html": [
              "\n",
              "  <div id=\"df-4692ddcb-4539-4795-8313-db6937642dfe\">\n",
              "    <div class=\"colab-df-container\">\n",
              "      <div>\n",
              "<style scoped>\n",
              "    .dataframe tbody tr th:only-of-type {\n",
              "        vertical-align: middle;\n",
              "    }\n",
              "\n",
              "    .dataframe tbody tr th {\n",
              "        vertical-align: top;\n",
              "    }\n",
              "\n",
              "    .dataframe thead th {\n",
              "        text-align: right;\n",
              "    }\n",
              "</style>\n",
              "<table border=\"1\" class=\"dataframe\">\n",
              "  <thead>\n",
              "    <tr style=\"text-align: right;\">\n",
              "      <th></th>\n",
              "      <th>State</th>\n",
              "      <th>Percent registered\\n(Total)</th>\n",
              "      <th>Percent voted\\n(Total)</th>\n",
              "      <th>Turnout</th>\n",
              "      <th>Label (&gt;mean 0.915)</th>\n",
              "    </tr>\n",
              "  </thead>\n",
              "  <tbody>\n",
              "    <tr>\n",
              "      <th>0</th>\n",
              "      <td>ALABAMA</td>\n",
              "      <td>67.0</td>\n",
              "      <td>59.6</td>\n",
              "      <td>0.889552</td>\n",
              "      <td>0</td>\n",
              "    </tr>\n",
              "    <tr>\n",
              "      <th>1</th>\n",
              "      <td>ALASKA</td>\n",
              "      <td>72.6</td>\n",
              "      <td>62.4</td>\n",
              "      <td>0.859504</td>\n",
              "      <td>0</td>\n",
              "    </tr>\n",
              "    <tr>\n",
              "      <th>2</th>\n",
              "      <td>ARIZONA</td>\n",
              "      <td>68.8</td>\n",
              "      <td>64.7</td>\n",
              "      <td>0.940407</td>\n",
              "      <td>1</td>\n",
              "    </tr>\n",
              "    <tr>\n",
              "      <th>3</th>\n",
              "      <td>ARKANSAS</td>\n",
              "      <td>59.6</td>\n",
              "      <td>51.9</td>\n",
              "      <td>0.870805</td>\n",
              "      <td>0</td>\n",
              "    </tr>\n",
              "    <tr>\n",
              "      <th>4</th>\n",
              "      <td>CALIFORNIA</td>\n",
              "      <td>59.3</td>\n",
              "      <td>55.7</td>\n",
              "      <td>0.939292</td>\n",
              "      <td>1</td>\n",
              "    </tr>\n",
              "  </tbody>\n",
              "</table>\n",
              "</div>\n",
              "      <button class=\"colab-df-convert\" onclick=\"convertToInteractive('df-4692ddcb-4539-4795-8313-db6937642dfe')\"\n",
              "              title=\"Convert this dataframe to an interactive table.\"\n",
              "              style=\"display:none;\">\n",
              "        \n",
              "  <svg xmlns=\"http://www.w3.org/2000/svg\" height=\"24px\"viewBox=\"0 0 24 24\"\n",
              "       width=\"24px\">\n",
              "    <path d=\"M0 0h24v24H0V0z\" fill=\"none\"/>\n",
              "    <path d=\"M18.56 5.44l.94 2.06.94-2.06 2.06-.94-2.06-.94-.94-2.06-.94 2.06-2.06.94zm-11 1L8.5 8.5l.94-2.06 2.06-.94-2.06-.94L8.5 2.5l-.94 2.06-2.06.94zm10 10l.94 2.06.94-2.06 2.06-.94-2.06-.94-.94-2.06-.94 2.06-2.06.94z\"/><path d=\"M17.41 7.96l-1.37-1.37c-.4-.4-.92-.59-1.43-.59-.52 0-1.04.2-1.43.59L10.3 9.45l-7.72 7.72c-.78.78-.78 2.05 0 2.83L4 21.41c.39.39.9.59 1.41.59.51 0 1.02-.2 1.41-.59l7.78-7.78 2.81-2.81c.8-.78.8-2.07 0-2.86zM5.41 20L4 18.59l7.72-7.72 1.47 1.35L5.41 20z\"/>\n",
              "  </svg>\n",
              "      </button>\n",
              "      \n",
              "  <style>\n",
              "    .colab-df-container {\n",
              "      display:flex;\n",
              "      flex-wrap:wrap;\n",
              "      gap: 12px;\n",
              "    }\n",
              "\n",
              "    .colab-df-convert {\n",
              "      background-color: #E8F0FE;\n",
              "      border: none;\n",
              "      border-radius: 50%;\n",
              "      cursor: pointer;\n",
              "      display: none;\n",
              "      fill: #1967D2;\n",
              "      height: 32px;\n",
              "      padding: 0 0 0 0;\n",
              "      width: 32px;\n",
              "    }\n",
              "\n",
              "    .colab-df-convert:hover {\n",
              "      background-color: #E2EBFA;\n",
              "      box-shadow: 0px 1px 2px rgba(60, 64, 67, 0.3), 0px 1px 3px 1px rgba(60, 64, 67, 0.15);\n",
              "      fill: #174EA6;\n",
              "    }\n",
              "\n",
              "    [theme=dark] .colab-df-convert {\n",
              "      background-color: #3B4455;\n",
              "      fill: #D2E3FC;\n",
              "    }\n",
              "\n",
              "    [theme=dark] .colab-df-convert:hover {\n",
              "      background-color: #434B5C;\n",
              "      box-shadow: 0px 1px 3px 1px rgba(0, 0, 0, 0.15);\n",
              "      filter: drop-shadow(0px 1px 2px rgba(0, 0, 0, 0.3));\n",
              "      fill: #FFFFFF;\n",
              "    }\n",
              "  </style>\n",
              "\n",
              "      <script>\n",
              "        const buttonEl =\n",
              "          document.querySelector('#df-4692ddcb-4539-4795-8313-db6937642dfe button.colab-df-convert');\n",
              "        buttonEl.style.display =\n",
              "          google.colab.kernel.accessAllowed ? 'block' : 'none';\n",
              "\n",
              "        async function convertToInteractive(key) {\n",
              "          const element = document.querySelector('#df-4692ddcb-4539-4795-8313-db6937642dfe');\n",
              "          const dataTable =\n",
              "            await google.colab.kernel.invokeFunction('convertToInteractive',\n",
              "                                                     [key], {});\n",
              "          if (!dataTable) return;\n",
              "\n",
              "          const docLinkHtml = 'Like what you see? Visit the ' +\n",
              "            '<a target=\"_blank\" href=https://colab.research.google.com/notebooks/data_table.ipynb>data table notebook</a>'\n",
              "            + ' to learn more about interactive tables.';\n",
              "          element.innerHTML = '';\n",
              "          dataTable['output_type'] = 'display_data';\n",
              "          await google.colab.output.renderOutput(dataTable, element);\n",
              "          const docLink = document.createElement('div');\n",
              "          docLink.innerHTML = docLinkHtml;\n",
              "          element.appendChild(docLink);\n",
              "        }\n",
              "      </script>\n",
              "    </div>\n",
              "  </div>\n",
              "  "
            ]
          },
          "metadata": {},
          "execution_count": 3
        }
      ]
    },
    {
      "cell_type": "code",
      "source": [
        "inter20.head()"
      ],
      "metadata": {
        "colab": {
          "base_uri": "https://localhost:8080/",
          "height": 206
        },
        "id": "y59H44ahhTuF",
        "outputId": "a620c6bb-eeb0-4b46-fde1-6c82fb0aef8b"
      },
      "execution_count": 4,
      "outputs": [
        {
          "output_type": "execute_result",
          "data": {
            "text/plain": [
              "        State  internet access  Poverty  Margin  BG(Y=1, N=0)\n",
              "0     ALABAMA             78.3     14.6    25.5             0\n",
              "1      ALASKA             82.3     12.2    10.1             0\n",
              "2     ARIZONA             78.9     11.2     0.3             1\n",
              "3    ARKANSAS             81.8     14.7    27.6             0\n",
              "4  CALIFORNIA             81.2     11.0    29.2             0"
            ],
            "text/html": [
              "\n",
              "  <div id=\"df-181dea31-59fa-4e39-ae4a-f0aa4c4e8f00\">\n",
              "    <div class=\"colab-df-container\">\n",
              "      <div>\n",
              "<style scoped>\n",
              "    .dataframe tbody tr th:only-of-type {\n",
              "        vertical-align: middle;\n",
              "    }\n",
              "\n",
              "    .dataframe tbody tr th {\n",
              "        vertical-align: top;\n",
              "    }\n",
              "\n",
              "    .dataframe thead th {\n",
              "        text-align: right;\n",
              "    }\n",
              "</style>\n",
              "<table border=\"1\" class=\"dataframe\">\n",
              "  <thead>\n",
              "    <tr style=\"text-align: right;\">\n",
              "      <th></th>\n",
              "      <th>State</th>\n",
              "      <th>internet access</th>\n",
              "      <th>Poverty</th>\n",
              "      <th>Margin</th>\n",
              "      <th>BG(Y=1, N=0)</th>\n",
              "    </tr>\n",
              "  </thead>\n",
              "  <tbody>\n",
              "    <tr>\n",
              "      <th>0</th>\n",
              "      <td>ALABAMA</td>\n",
              "      <td>78.3</td>\n",
              "      <td>14.6</td>\n",
              "      <td>25.5</td>\n",
              "      <td>0</td>\n",
              "    </tr>\n",
              "    <tr>\n",
              "      <th>1</th>\n",
              "      <td>ALASKA</td>\n",
              "      <td>82.3</td>\n",
              "      <td>12.2</td>\n",
              "      <td>10.1</td>\n",
              "      <td>0</td>\n",
              "    </tr>\n",
              "    <tr>\n",
              "      <th>2</th>\n",
              "      <td>ARIZONA</td>\n",
              "      <td>78.9</td>\n",
              "      <td>11.2</td>\n",
              "      <td>0.3</td>\n",
              "      <td>1</td>\n",
              "    </tr>\n",
              "    <tr>\n",
              "      <th>3</th>\n",
              "      <td>ARKANSAS</td>\n",
              "      <td>81.8</td>\n",
              "      <td>14.7</td>\n",
              "      <td>27.6</td>\n",
              "      <td>0</td>\n",
              "    </tr>\n",
              "    <tr>\n",
              "      <th>4</th>\n",
              "      <td>CALIFORNIA</td>\n",
              "      <td>81.2</td>\n",
              "      <td>11.0</td>\n",
              "      <td>29.2</td>\n",
              "      <td>0</td>\n",
              "    </tr>\n",
              "  </tbody>\n",
              "</table>\n",
              "</div>\n",
              "      <button class=\"colab-df-convert\" onclick=\"convertToInteractive('df-181dea31-59fa-4e39-ae4a-f0aa4c4e8f00')\"\n",
              "              title=\"Convert this dataframe to an interactive table.\"\n",
              "              style=\"display:none;\">\n",
              "        \n",
              "  <svg xmlns=\"http://www.w3.org/2000/svg\" height=\"24px\"viewBox=\"0 0 24 24\"\n",
              "       width=\"24px\">\n",
              "    <path d=\"M0 0h24v24H0V0z\" fill=\"none\"/>\n",
              "    <path d=\"M18.56 5.44l.94 2.06.94-2.06 2.06-.94-2.06-.94-.94-2.06-.94 2.06-2.06.94zm-11 1L8.5 8.5l.94-2.06 2.06-.94-2.06-.94L8.5 2.5l-.94 2.06-2.06.94zm10 10l.94 2.06.94-2.06 2.06-.94-2.06-.94-.94-2.06-.94 2.06-2.06.94z\"/><path d=\"M17.41 7.96l-1.37-1.37c-.4-.4-.92-.59-1.43-.59-.52 0-1.04.2-1.43.59L10.3 9.45l-7.72 7.72c-.78.78-.78 2.05 0 2.83L4 21.41c.39.39.9.59 1.41.59.51 0 1.02-.2 1.41-.59l7.78-7.78 2.81-2.81c.8-.78.8-2.07 0-2.86zM5.41 20L4 18.59l7.72-7.72 1.47 1.35L5.41 20z\"/>\n",
              "  </svg>\n",
              "      </button>\n",
              "      \n",
              "  <style>\n",
              "    .colab-df-container {\n",
              "      display:flex;\n",
              "      flex-wrap:wrap;\n",
              "      gap: 12px;\n",
              "    }\n",
              "\n",
              "    .colab-df-convert {\n",
              "      background-color: #E8F0FE;\n",
              "      border: none;\n",
              "      border-radius: 50%;\n",
              "      cursor: pointer;\n",
              "      display: none;\n",
              "      fill: #1967D2;\n",
              "      height: 32px;\n",
              "      padding: 0 0 0 0;\n",
              "      width: 32px;\n",
              "    }\n",
              "\n",
              "    .colab-df-convert:hover {\n",
              "      background-color: #E2EBFA;\n",
              "      box-shadow: 0px 1px 2px rgba(60, 64, 67, 0.3), 0px 1px 3px 1px rgba(60, 64, 67, 0.15);\n",
              "      fill: #174EA6;\n",
              "    }\n",
              "\n",
              "    [theme=dark] .colab-df-convert {\n",
              "      background-color: #3B4455;\n",
              "      fill: #D2E3FC;\n",
              "    }\n",
              "\n",
              "    [theme=dark] .colab-df-convert:hover {\n",
              "      background-color: #434B5C;\n",
              "      box-shadow: 0px 1px 3px 1px rgba(0, 0, 0, 0.15);\n",
              "      filter: drop-shadow(0px 1px 2px rgba(0, 0, 0, 0.3));\n",
              "      fill: #FFFFFF;\n",
              "    }\n",
              "  </style>\n",
              "\n",
              "      <script>\n",
              "        const buttonEl =\n",
              "          document.querySelector('#df-181dea31-59fa-4e39-ae4a-f0aa4c4e8f00 button.colab-df-convert');\n",
              "        buttonEl.style.display =\n",
              "          google.colab.kernel.accessAllowed ? 'block' : 'none';\n",
              "\n",
              "        async function convertToInteractive(key) {\n",
              "          const element = document.querySelector('#df-181dea31-59fa-4e39-ae4a-f0aa4c4e8f00');\n",
              "          const dataTable =\n",
              "            await google.colab.kernel.invokeFunction('convertToInteractive',\n",
              "                                                     [key], {});\n",
              "          if (!dataTable) return;\n",
              "\n",
              "          const docLinkHtml = 'Like what you see? Visit the ' +\n",
              "            '<a target=\"_blank\" href=https://colab.research.google.com/notebooks/data_table.ipynb>data table notebook</a>'\n",
              "            + ' to learn more about interactive tables.';\n",
              "          element.innerHTML = '';\n",
              "          dataTable['output_type'] = 'display_data';\n",
              "          await google.colab.output.renderOutput(dataTable, element);\n",
              "          const docLink = document.createElement('div');\n",
              "          docLink.innerHTML = docLinkHtml;\n",
              "          element.appendChild(docLink);\n",
              "        }\n",
              "      </script>\n",
              "    </div>\n",
              "  </div>\n",
              "  "
            ]
          },
          "metadata": {},
          "execution_count": 4
        }
      ]
    },
    {
      "cell_type": "code",
      "source": [
        "# dummy variables for State\n",
        "inter20 = pd.get_dummies(inter20, columns = ['State'])\n",
        "voter20 = pd.get_dummies(voter20, columns = ['State'])"
      ],
      "metadata": {
        "id": "iUUPX1IShYp-"
      },
      "execution_count": 5,
      "outputs": []
    },
    {
      "cell_type": "code",
      "source": [
        "#Original Model\n",
        "y = voter20['Label (>mean 0.915)']\n",
        "X = inter20.iloc[:,1:]\n",
        "\n",
        "X_train, X_test, y_train, y_test = train_test_split(X, y, test_size = .3, random_state = 1)\n",
        "\n",
        "mod1 = LogisticRegression(random_state = 1, solver = 'liblinear').fit(X_train, y_train)\n",
        "\n",
        "# majority class classifier\n",
        "print(y_test.mean())\n",
        "print(mod1.score(X_test, y_test))"
      ],
      "metadata": {
        "colab": {
          "base_uri": "https://localhost:8080/"
        },
        "id": "6M_2lW5yhdOJ",
        "outputId": "24ca4d7a-3fa7-40af-d2df-14ba264a2ab4"
      },
      "execution_count": 6,
      "outputs": [
        {
          "output_type": "stream",
          "name": "stdout",
          "text": [
            "0.75\n",
            "0.6875\n"
          ]
        }
      ]
    },
    {
      "cell_type": "code",
      "source": [
        "#Refining measures\n",
        "inter = inter20.drop(labels = ['Poverty', 'Margin', 'BG(Y=1, N=0)'], axis = 1)\n",
        "\n",
        "y = voter20['Label (>mean 0.915)']\n",
        "X = inter.iloc[:,1:]\n",
        "\n",
        "X_train, X_test, y_train, y_test = train_test_split(X, y, test_size = .3, random_state = 1)\n",
        "\n",
        "mod2= LogisticRegression(random_state = 1, solver = 'liblinear').fit(X_train, y_train)\n",
        "print(y_test.mean())\n",
        "print(mod2.score(X_test, y_test))"
      ],
      "metadata": {
        "colab": {
          "base_uri": "https://localhost:8080/"
        },
        "id": "1lXBRwx1hk9v",
        "outputId": "a668a9c2-85ae-4e24-dd74-82633afe0a8d"
      },
      "execution_count": 7,
      "outputs": [
        {
          "output_type": "stream",
          "name": "stdout",
          "text": [
            "0.75\n",
            "0.75\n"
          ]
        }
      ]
    },
    {
      "cell_type": "code",
      "source": [
        "pov = inter20.drop(labels = ['internet access'], axis = 1)\n",
        "\n",
        "y = voter20['Label (>mean 0.915)']\n",
        "X = pov.iloc[:,1:]\n",
        "\n",
        "X_train, X_test, y_train, y_test = train_test_split(X, y, test_size = .3, random_state = 1)\n",
        "\n",
        "mod3= LogisticRegression(random_state = 1, solver = 'liblinear').fit(X_train, y_train)\n",
        "print(y_test.mean())\n",
        "print(mod3.score(X_test, y_test))"
      ],
      "metadata": {
        "colab": {
          "base_uri": "https://localhost:8080/"
        },
        "id": "D0N-jLFQhwj6",
        "outputId": "3f13380e-923f-45f3-afaf-7d0553c895b7"
      },
      "execution_count": 8,
      "outputs": [
        {
          "output_type": "stream",
          "name": "stdout",
          "text": [
            "0.75\n",
            "0.4375\n"
          ]
        }
      ]
    },
    {
      "cell_type": "code",
      "source": [
        "dict(zip(mod2.feature_names_in_, mod2.coef_[0]))"
      ],
      "metadata": {
        "colab": {
          "base_uri": "https://localhost:8080/"
        },
        "id": "e6bwmwt8h75c",
        "outputId": "0d514423-a454-4612-c905-747425b89b6a"
      },
      "execution_count": 9,
      "outputs": [
        {
          "output_type": "execute_result",
          "data": {
            "text/plain": [
              "{'State_ALABAMA': -0.4110776362392723,\n",
              " 'State_ALASKA': -0.4110776362392723,\n",
              " 'State_ARIZONA': 0.0,\n",
              " 'State_ARKANSAS': 0.0,\n",
              " 'State_CALIFORNIA': 0.3911047334103042,\n",
              " 'State_COLORADO': 0.3911047334103042,\n",
              " 'State_CONNECTICUT': -0.4110776362392723,\n",
              " 'State_DELAWARE': -0.4110776362392723,\n",
              " 'State_DISTRICT OF COLUMBIA': 0.3911047334103042,\n",
              " 'State_FLORIDA': 0.3911047334103042,\n",
              " 'State_GEORGIA': 0.3911047334103042,\n",
              " 'State_HAWAII': 0.3911047334103042,\n",
              " 'State_IDAHO': 0.3911047334103042,\n",
              " 'State_ILLINOIS': 0.3911047334103042,\n",
              " 'State_INDIANA': -0.4110776362392723,\n",
              " 'State_IOWA': 0.3911047334103042,\n",
              " 'State_KANSAS': 0.3911047334103042,\n",
              " 'State_KENTUCKY': -0.4110776362392723,\n",
              " 'State_LOUISIANA': -0.4110776362392723,\n",
              " 'State_MAINE': 0.3911047334103042,\n",
              " 'State_MARYLAND': 0.3911047334103042,\n",
              " 'State_MASSACHUSETTS': 0.0,\n",
              " 'State_MICHIGAN': 0.0,\n",
              " 'State_MINNESOTA': 0.3911047334103042,\n",
              " 'State_MISSISSIPPI': -0.4110776362392723,\n",
              " 'State_MISSOURI': -0.4110776362392723,\n",
              " 'State_MONTANA': 0.0,\n",
              " 'State_NEBRASKA': 0.0,\n",
              " 'State_NEVADA': 0.3911047334103042,\n",
              " 'State_NEW HAMPSHIRE': 0.0,\n",
              " 'State_NEW JERSEY': 0.0,\n",
              " 'State_NEW MEXICO': -0.4110776362392723,\n",
              " 'State_NEW YORK': 0.0,\n",
              " 'State_NORTH CAROLINA': 0.0,\n",
              " 'State_NORTH DAKOTA': -0.4110776362392723,\n",
              " 'State_OHIO': -0.4110776362392723,\n",
              " 'State_OKLAHOMA': -0.4110776362392723,\n",
              " 'State_OREGON': 0.3911047334103042,\n",
              " 'State_PENNSYLVANIA': 0.3911047334103042,\n",
              " 'State_RHODE ISLAND': 0.0,\n",
              " 'State_SOUTH CAROLINA': -0.4110776362392723,\n",
              " 'State_SOUTH DAKOTA': 0.0,\n",
              " 'State_TENNESSEE': -0.4110776362392723,\n",
              " 'State_TEXAS': -0.4110776362392723,\n",
              " 'State_UTAH': 0.0,\n",
              " 'State_VERMONT': 0.3911047334103042,\n",
              " 'State_VIRGINIA': 0.3911047334103042,\n",
              " 'State_WASHINGTON': 0.0,\n",
              " 'State_WEST VIRGINIA': -0.4110776362392723,\n",
              " 'State_WISCONSIN': 0.0,\n",
              " 'State_WYOMING': 0.0}"
            ]
          },
          "metadata": {},
          "execution_count": 9
        }
      ]
    },
    {
      "cell_type": "code",
      "source": [
        "#Feature Importance W/ Logistic Regression\n",
        "\n",
        "#with internet access only\n",
        "y = voter20['Label (>mean 0.915)']\n",
        "X = inter20.iloc[:,2:]\n",
        "\n",
        "X_train, X_test, y_train, y_test = train_test_split(X, y, test_size = .3, random_state = 1)\n",
        "\n",
        "mod4= LogisticRegression(random_state = 1, solver = 'liblinear').fit(X_train, y_train)\n",
        "print(y_test.mean())\n",
        "print(mod4.score(X_test, y_test))"
      ],
      "metadata": {
        "colab": {
          "base_uri": "https://localhost:8080/"
        },
        "id": "3vlaJnGOh_N8",
        "outputId": "aba24769-d0ae-4a03-ea90-c28940e93109"
      },
      "execution_count": 10,
      "outputs": [
        {
          "output_type": "stream",
          "name": "stdout",
          "text": [
            "0.75\n",
            "0.4375\n"
          ]
        }
      ]
    },
    {
      "cell_type": "code",
      "source": [
        "#with poverty only\n",
        "y = voter20['Label (>mean 0.915)']\n",
        "X = inter20.iloc[:,3:]\n",
        "\n",
        "X_train, X_test, y_train, y_test = train_test_split(X, y, test_size = .3, random_state = 1)\n",
        "\n",
        "mod4= LogisticRegression(random_state = 1, solver = 'liblinear').fit(X_train, y_train)\n",
        "print(y_test.mean())\n",
        "print(mod4.score(X_test, y_test))"
      ],
      "metadata": {
        "colab": {
          "base_uri": "https://localhost:8080/"
        },
        "id": "8K9ZzD6wiLj2",
        "outputId": "907a4480-3667-456a-f7e3-6abd5cc9019f"
      },
      "execution_count": 11,
      "outputs": [
        {
          "output_type": "stream",
          "name": "stdout",
          "text": [
            "0.75\n",
            "0.375\n"
          ]
        }
      ]
    },
    {
      "cell_type": "code",
      "source": [
        "#with winning margin only\n",
        "y = voter20['Label (>mean 0.915)']\n",
        "X = inter20.iloc[:,4:]\n",
        "\n",
        "X_train, X_test, y_train, y_test = train_test_split(X, y, test_size = .3, random_state = 1)\n",
        "\n",
        "mod4= LogisticRegression(random_state = 1, solver = 'liblinear').fit(X_train, y_train)\n",
        "print(y_test.mean())\n",
        "print(mod4.score(X_test, y_test))"
      ],
      "metadata": {
        "colab": {
          "base_uri": "https://localhost:8080/"
        },
        "id": "yVpCh6RUiQCw",
        "outputId": "0fe4de7a-de1e-41fa-d030-ce2c9036a5fe"
      },
      "execution_count": 12,
      "outputs": [
        {
          "output_type": "stream",
          "name": "stdout",
          "text": [
            "0.75\n",
            "0.75\n"
          ]
        }
      ]
    },
    {
      "cell_type": "code",
      "source": [
        "#with battle ground data only\n",
        "y = voter20['Label (>mean 0.915)']\n",
        "X = inter20.iloc[:,5:]\n",
        "\n",
        "X_train, X_test, y_train, y_test = train_test_split(X, y, test_size = .3, random_state = 1)\n",
        "\n",
        "mod4= LogisticRegression(random_state = 1, solver = 'liblinear').fit(X_train, y_train)\n",
        "print(y_test.mean())\n",
        "print(mod4.score(X_test, y_test))"
      ],
      "metadata": {
        "colab": {
          "base_uri": "https://localhost:8080/"
        },
        "id": "snj9aLgLiXeB",
        "outputId": "f088f890-ee69-43e9-de27-624042ffd059"
      },
      "execution_count": 13,
      "outputs": [
        {
          "output_type": "stream",
          "name": "stdout",
          "text": [
            "0.75\n",
            "0.75\n"
          ]
        }
      ]
    },
    {
      "cell_type": "code",
      "source": [
        "#Feature importance with Random Forest\n",
        "from sklearn.ensemble import RandomForestClassifier\n",
        "from sklearn.inspection import permutation_importance"
      ],
      "metadata": {
        "id": "lp14OAsriiIk"
      },
      "execution_count": 14,
      "outputs": []
    },
    {
      "cell_type": "code",
      "source": [
        "# Full model\n",
        "y = voter20['Label (>mean 0.915)']\n",
        "X = inter20.iloc[:,1:]\n",
        "\n",
        "X_train, X_test, y_train, y_test = train_test_split(X, y, test_size = .3, random_state = 1)\n",
        "\n",
        "fullforest = RandomForestClassifier(random_state=0).fit(X_train, y_train)\n",
        "\n",
        "fullforest.score(X_test, y_test)"
      ],
      "metadata": {
        "colab": {
          "base_uri": "https://localhost:8080/"
        },
        "id": "YAnnHmyYikVt",
        "outputId": "bb02ff9e-8b2b-446d-cda2-52d5a224e788"
      },
      "execution_count": 15,
      "outputs": [
        {
          "output_type": "execute_result",
          "data": {
            "text/plain": [
              "0.75"
            ]
          },
          "metadata": {},
          "execution_count": 15
        }
      ]
    },
    {
      "cell_type": "code",
      "source": [
        "#without poverty & MR & BG data \n",
        "y = voter20['Label (>mean 0.915)']\n",
        "X = inter20.iloc[:,1:2]\n",
        "\n",
        "X_train, X_test, y_train, y_test = train_test_split(X, y, test_size = .3, random_state = 1)\n",
        "\n",
        "interforest = RandomForestClassifier(random_state=0).fit(X_train, y_train)\n",
        "\n",
        "interforest.score(X_test, y_test)"
      ],
      "metadata": {
        "colab": {
          "base_uri": "https://localhost:8080/"
        },
        "id": "MaX_HNYnisn7",
        "outputId": "a5eb261b-5838-4424-94f7-5c40ed3569ac"
      },
      "execution_count": 17,
      "outputs": [
        {
          "output_type": "execute_result",
          "data": {
            "text/plain": [
              "0.8125"
            ]
          },
          "metadata": {},
          "execution_count": 17
        }
      ]
    },
    {
      "cell_type": "code",
      "source": [
        "#without internet data\n",
        "y = voter20['Label (>mean 0.915)']\n",
        "X = inter20.iloc[:,3:6]\n",
        "\n",
        "X_train, X_test, y_train, y_test = train_test_split(X, y, test_size = .3, random_state = 1)\n",
        "\n",
        "povforest = RandomForestClassifier(random_state=0).fit(X_train, y_train)\n",
        "\n",
        "povforest.score(X_test, y_test)"
      ],
      "metadata": {
        "colab": {
          "base_uri": "https://localhost:8080/"
        },
        "id": "IlMlIBwaisdw",
        "outputId": "c3c11781-7988-4671-c54d-de1311b6da05"
      },
      "execution_count": 18,
      "outputs": [
        {
          "output_type": "execute_result",
          "data": {
            "text/plain": [
              "0.375"
            ]
          },
          "metadata": {},
          "execution_count": 18
        }
      ]
    },
    {
      "cell_type": "code",
      "source": [
        "#without MR and BG data\n",
        "y = voter20['Label (>mean 0.915)']\n",
        "X = inter20.iloc[:,1:3]\n",
        "\n",
        "X_train, X_test, y_train, y_test = train_test_split(X, y, test_size = .3, random_state = 1)\n",
        "\n",
        "povforest = RandomForestClassifier(random_state=0).fit(X_train, y_train)\n",
        "\n",
        "povforest.score(X_test, y_test)"
      ],
      "metadata": {
        "colab": {
          "base_uri": "https://localhost:8080/"
        },
        "id": "SSoIEk5tjF5X",
        "outputId": "0cf438d3-b854-4af8-f441-1ca9b311f2a4"
      },
      "execution_count": 19,
      "outputs": [
        {
          "output_type": "execute_result",
          "data": {
            "text/plain": [
              "0.625"
            ]
          },
          "metadata": {},
          "execution_count": 19
        }
      ]
    }
  ]
}