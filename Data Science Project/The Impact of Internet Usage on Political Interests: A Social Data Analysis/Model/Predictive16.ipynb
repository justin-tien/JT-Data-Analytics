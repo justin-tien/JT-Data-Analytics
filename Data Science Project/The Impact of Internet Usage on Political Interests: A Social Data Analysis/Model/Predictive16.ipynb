{
  "nbformat": 4,
  "nbformat_minor": 0,
  "metadata": {
    "colab": {
      "provenance": []
    },
    "kernelspec": {
      "name": "python3",
      "display_name": "Python 3"
    },
    "language_info": {
      "name": "python"
    }
  },
  "cells": [
    {
      "cell_type": "code",
      "execution_count": 7,
      "metadata": {
        "id": "ibbYloP0S-ir"
      },
      "outputs": [],
      "source": [
        "import pandas as pd\n",
        "import numpy as np\n",
        "from sklearn.linear_model import LogisticRegression\n",
        "from sklearn.model_selection import train_test_split"
      ]
    },
    {
      "cell_type": "code",
      "source": [
        "voter16 = pd.read_excel(\"voter16.xlsx\")\n",
        "inter16 = pd.read_excel(\"inter16.xlsx\")"
      ],
      "metadata": {
        "id": "LWUc_I1TW0NY"
      },
      "execution_count": 8,
      "outputs": []
    },
    {
      "cell_type": "code",
      "source": [
        "voter16.head()"
      ],
      "metadata": {
        "colab": {
          "base_uri": "https://localhost:8080/",
          "height": 206
        },
        "id": "xFvzADVuZUue",
        "outputId": "eb4840a7-30f8-43b3-cb38-e0b3fd62c5fa"
      },
      "execution_count": 9,
      "outputs": [
        {
          "output_type": "execute_result",
          "data": {
            "text/plain": [
              "        State  Percent registered\\n(Total)  Percent voted\\n(Total)   Turnout  \\\n",
              "0     ALABAMA                      67.9617                 56.3712  0.829455   \n",
              "1      ALASKA                      69.0653                 59.4061  0.860144   \n",
              "2     ARIZONA                      60.5332                 53.2880  0.880310   \n",
              "3    ARKANSAS                      65.6858                 56.0106  0.852705   \n",
              "4  CALIFORNIA                      53.8432                 48.2247  0.895651   \n",
              "\n",
              "   Label (>mean 0.872)  \n",
              "0                    0  \n",
              "1                    0  \n",
              "2                    1  \n",
              "3                    0  \n",
              "4                    1  "
            ],
            "text/html": [
              "\n",
              "  <div id=\"df-4d7b1de5-0c64-436b-8b86-481c83ccb9af\">\n",
              "    <div class=\"colab-df-container\">\n",
              "      <div>\n",
              "<style scoped>\n",
              "    .dataframe tbody tr th:only-of-type {\n",
              "        vertical-align: middle;\n",
              "    }\n",
              "\n",
              "    .dataframe tbody tr th {\n",
              "        vertical-align: top;\n",
              "    }\n",
              "\n",
              "    .dataframe thead th {\n",
              "        text-align: right;\n",
              "    }\n",
              "</style>\n",
              "<table border=\"1\" class=\"dataframe\">\n",
              "  <thead>\n",
              "    <tr style=\"text-align: right;\">\n",
              "      <th></th>\n",
              "      <th>State</th>\n",
              "      <th>Percent registered\\n(Total)</th>\n",
              "      <th>Percent voted\\n(Total)</th>\n",
              "      <th>Turnout</th>\n",
              "      <th>Label (&gt;mean 0.872)</th>\n",
              "    </tr>\n",
              "  </thead>\n",
              "  <tbody>\n",
              "    <tr>\n",
              "      <th>0</th>\n",
              "      <td>ALABAMA</td>\n",
              "      <td>67.9617</td>\n",
              "      <td>56.3712</td>\n",
              "      <td>0.829455</td>\n",
              "      <td>0</td>\n",
              "    </tr>\n",
              "    <tr>\n",
              "      <th>1</th>\n",
              "      <td>ALASKA</td>\n",
              "      <td>69.0653</td>\n",
              "      <td>59.4061</td>\n",
              "      <td>0.860144</td>\n",
              "      <td>0</td>\n",
              "    </tr>\n",
              "    <tr>\n",
              "      <th>2</th>\n",
              "      <td>ARIZONA</td>\n",
              "      <td>60.5332</td>\n",
              "      <td>53.2880</td>\n",
              "      <td>0.880310</td>\n",
              "      <td>1</td>\n",
              "    </tr>\n",
              "    <tr>\n",
              "      <th>3</th>\n",
              "      <td>ARKANSAS</td>\n",
              "      <td>65.6858</td>\n",
              "      <td>56.0106</td>\n",
              "      <td>0.852705</td>\n",
              "      <td>0</td>\n",
              "    </tr>\n",
              "    <tr>\n",
              "      <th>4</th>\n",
              "      <td>CALIFORNIA</td>\n",
              "      <td>53.8432</td>\n",
              "      <td>48.2247</td>\n",
              "      <td>0.895651</td>\n",
              "      <td>1</td>\n",
              "    </tr>\n",
              "  </tbody>\n",
              "</table>\n",
              "</div>\n",
              "      <button class=\"colab-df-convert\" onclick=\"convertToInteractive('df-4d7b1de5-0c64-436b-8b86-481c83ccb9af')\"\n",
              "              title=\"Convert this dataframe to an interactive table.\"\n",
              "              style=\"display:none;\">\n",
              "        \n",
              "  <svg xmlns=\"http://www.w3.org/2000/svg\" height=\"24px\"viewBox=\"0 0 24 24\"\n",
              "       width=\"24px\">\n",
              "    <path d=\"M0 0h24v24H0V0z\" fill=\"none\"/>\n",
              "    <path d=\"M18.56 5.44l.94 2.06.94-2.06 2.06-.94-2.06-.94-.94-2.06-.94 2.06-2.06.94zm-11 1L8.5 8.5l.94-2.06 2.06-.94-2.06-.94L8.5 2.5l-.94 2.06-2.06.94zm10 10l.94 2.06.94-2.06 2.06-.94-2.06-.94-.94-2.06-.94 2.06-2.06.94z\"/><path d=\"M17.41 7.96l-1.37-1.37c-.4-.4-.92-.59-1.43-.59-.52 0-1.04.2-1.43.59L10.3 9.45l-7.72 7.72c-.78.78-.78 2.05 0 2.83L4 21.41c.39.39.9.59 1.41.59.51 0 1.02-.2 1.41-.59l7.78-7.78 2.81-2.81c.8-.78.8-2.07 0-2.86zM5.41 20L4 18.59l7.72-7.72 1.47 1.35L5.41 20z\"/>\n",
              "  </svg>\n",
              "      </button>\n",
              "      \n",
              "  <style>\n",
              "    .colab-df-container {\n",
              "      display:flex;\n",
              "      flex-wrap:wrap;\n",
              "      gap: 12px;\n",
              "    }\n",
              "\n",
              "    .colab-df-convert {\n",
              "      background-color: #E8F0FE;\n",
              "      border: none;\n",
              "      border-radius: 50%;\n",
              "      cursor: pointer;\n",
              "      display: none;\n",
              "      fill: #1967D2;\n",
              "      height: 32px;\n",
              "      padding: 0 0 0 0;\n",
              "      width: 32px;\n",
              "    }\n",
              "\n",
              "    .colab-df-convert:hover {\n",
              "      background-color: #E2EBFA;\n",
              "      box-shadow: 0px 1px 2px rgba(60, 64, 67, 0.3), 0px 1px 3px 1px rgba(60, 64, 67, 0.15);\n",
              "      fill: #174EA6;\n",
              "    }\n",
              "\n",
              "    [theme=dark] .colab-df-convert {\n",
              "      background-color: #3B4455;\n",
              "      fill: #D2E3FC;\n",
              "    }\n",
              "\n",
              "    [theme=dark] .colab-df-convert:hover {\n",
              "      background-color: #434B5C;\n",
              "      box-shadow: 0px 1px 3px 1px rgba(0, 0, 0, 0.15);\n",
              "      filter: drop-shadow(0px 1px 2px rgba(0, 0, 0, 0.3));\n",
              "      fill: #FFFFFF;\n",
              "    }\n",
              "  </style>\n",
              "\n",
              "      <script>\n",
              "        const buttonEl =\n",
              "          document.querySelector('#df-4d7b1de5-0c64-436b-8b86-481c83ccb9af button.colab-df-convert');\n",
              "        buttonEl.style.display =\n",
              "          google.colab.kernel.accessAllowed ? 'block' : 'none';\n",
              "\n",
              "        async function convertToInteractive(key) {\n",
              "          const element = document.querySelector('#df-4d7b1de5-0c64-436b-8b86-481c83ccb9af');\n",
              "          const dataTable =\n",
              "            await google.colab.kernel.invokeFunction('convertToInteractive',\n",
              "                                                     [key], {});\n",
              "          if (!dataTable) return;\n",
              "\n",
              "          const docLinkHtml = 'Like what you see? Visit the ' +\n",
              "            '<a target=\"_blank\" href=https://colab.research.google.com/notebooks/data_table.ipynb>data table notebook</a>'\n",
              "            + ' to learn more about interactive tables.';\n",
              "          element.innerHTML = '';\n",
              "          dataTable['output_type'] = 'display_data';\n",
              "          await google.colab.output.renderOutput(dataTable, element);\n",
              "          const docLink = document.createElement('div');\n",
              "          docLink.innerHTML = docLinkHtml;\n",
              "          element.appendChild(docLink);\n",
              "        }\n",
              "      </script>\n",
              "    </div>\n",
              "  </div>\n",
              "  "
            ]
          },
          "metadata": {},
          "execution_count": 9
        }
      ]
    },
    {
      "cell_type": "code",
      "source": [
        "inter16.head()\n"
      ],
      "metadata": {
        "colab": {
          "base_uri": "https://localhost:8080/",
          "height": 206
        },
        "id": "Wg3Z7GmqZXkx",
        "outputId": "3efbb68d-735d-4a0e-d114-aa500a35d354"
      },
      "execution_count": 10,
      "outputs": [
        {
          "output_type": "execute_result",
          "data": {
            "text/plain": [
              "                                               State  \\\n",
              "0  Alabama .........................................   \n",
              "1  Alaska ..........................................   \n",
              "2  Arizona .........................................   \n",
              "3  Arkansas ........................................   \n",
              "4  California ......................................   \n",
              "\n",
              "   Households with computer  internet access.  Poverty  Winning Margin  \\\n",
              "0                 83.909992         75.284830     16.3            27.7   \n",
              "1                 94.433488         86.695671     10.9            14.7   \n",
              "2                 91.044885         83.804423     16.6             3.5   \n",
              "3                 84.479373         71.134348     16.1            26.9   \n",
              "4                 92.120089         85.606221     13.9            30.1   \n",
              "\n",
              "   BG(Y=1,N=0)  \n",
              "0            0  \n",
              "1            1  \n",
              "2            0  \n",
              "3            0  \n",
              "4            1  "
            ],
            "text/html": [
              "\n",
              "  <div id=\"df-c5ee57f7-7549-4dcc-a34f-312f64e11ce6\">\n",
              "    <div class=\"colab-df-container\">\n",
              "      <div>\n",
              "<style scoped>\n",
              "    .dataframe tbody tr th:only-of-type {\n",
              "        vertical-align: middle;\n",
              "    }\n",
              "\n",
              "    .dataframe tbody tr th {\n",
              "        vertical-align: top;\n",
              "    }\n",
              "\n",
              "    .dataframe thead th {\n",
              "        text-align: right;\n",
              "    }\n",
              "</style>\n",
              "<table border=\"1\" class=\"dataframe\">\n",
              "  <thead>\n",
              "    <tr style=\"text-align: right;\">\n",
              "      <th></th>\n",
              "      <th>State</th>\n",
              "      <th>Households with computer</th>\n",
              "      <th>internet access.</th>\n",
              "      <th>Poverty</th>\n",
              "      <th>Winning Margin</th>\n",
              "      <th>BG(Y=1,N=0)</th>\n",
              "    </tr>\n",
              "  </thead>\n",
              "  <tbody>\n",
              "    <tr>\n",
              "      <th>0</th>\n",
              "      <td>Alabama .........................................</td>\n",
              "      <td>83.909992</td>\n",
              "      <td>75.284830</td>\n",
              "      <td>16.3</td>\n",
              "      <td>27.7</td>\n",
              "      <td>0</td>\n",
              "    </tr>\n",
              "    <tr>\n",
              "      <th>1</th>\n",
              "      <td>Alaska ..........................................</td>\n",
              "      <td>94.433488</td>\n",
              "      <td>86.695671</td>\n",
              "      <td>10.9</td>\n",
              "      <td>14.7</td>\n",
              "      <td>1</td>\n",
              "    </tr>\n",
              "    <tr>\n",
              "      <th>2</th>\n",
              "      <td>Arizona .........................................</td>\n",
              "      <td>91.044885</td>\n",
              "      <td>83.804423</td>\n",
              "      <td>16.6</td>\n",
              "      <td>3.5</td>\n",
              "      <td>0</td>\n",
              "    </tr>\n",
              "    <tr>\n",
              "      <th>3</th>\n",
              "      <td>Arkansas ........................................</td>\n",
              "      <td>84.479373</td>\n",
              "      <td>71.134348</td>\n",
              "      <td>16.1</td>\n",
              "      <td>26.9</td>\n",
              "      <td>0</td>\n",
              "    </tr>\n",
              "    <tr>\n",
              "      <th>4</th>\n",
              "      <td>California ......................................</td>\n",
              "      <td>92.120089</td>\n",
              "      <td>85.606221</td>\n",
              "      <td>13.9</td>\n",
              "      <td>30.1</td>\n",
              "      <td>1</td>\n",
              "    </tr>\n",
              "  </tbody>\n",
              "</table>\n",
              "</div>\n",
              "      <button class=\"colab-df-convert\" onclick=\"convertToInteractive('df-c5ee57f7-7549-4dcc-a34f-312f64e11ce6')\"\n",
              "              title=\"Convert this dataframe to an interactive table.\"\n",
              "              style=\"display:none;\">\n",
              "        \n",
              "  <svg xmlns=\"http://www.w3.org/2000/svg\" height=\"24px\"viewBox=\"0 0 24 24\"\n",
              "       width=\"24px\">\n",
              "    <path d=\"M0 0h24v24H0V0z\" fill=\"none\"/>\n",
              "    <path d=\"M18.56 5.44l.94 2.06.94-2.06 2.06-.94-2.06-.94-.94-2.06-.94 2.06-2.06.94zm-11 1L8.5 8.5l.94-2.06 2.06-.94-2.06-.94L8.5 2.5l-.94 2.06-2.06.94zm10 10l.94 2.06.94-2.06 2.06-.94-2.06-.94-.94-2.06-.94 2.06-2.06.94z\"/><path d=\"M17.41 7.96l-1.37-1.37c-.4-.4-.92-.59-1.43-.59-.52 0-1.04.2-1.43.59L10.3 9.45l-7.72 7.72c-.78.78-.78 2.05 0 2.83L4 21.41c.39.39.9.59 1.41.59.51 0 1.02-.2 1.41-.59l7.78-7.78 2.81-2.81c.8-.78.8-2.07 0-2.86zM5.41 20L4 18.59l7.72-7.72 1.47 1.35L5.41 20z\"/>\n",
              "  </svg>\n",
              "      </button>\n",
              "      \n",
              "  <style>\n",
              "    .colab-df-container {\n",
              "      display:flex;\n",
              "      flex-wrap:wrap;\n",
              "      gap: 12px;\n",
              "    }\n",
              "\n",
              "    .colab-df-convert {\n",
              "      background-color: #E8F0FE;\n",
              "      border: none;\n",
              "      border-radius: 50%;\n",
              "      cursor: pointer;\n",
              "      display: none;\n",
              "      fill: #1967D2;\n",
              "      height: 32px;\n",
              "      padding: 0 0 0 0;\n",
              "      width: 32px;\n",
              "    }\n",
              "\n",
              "    .colab-df-convert:hover {\n",
              "      background-color: #E2EBFA;\n",
              "      box-shadow: 0px 1px 2px rgba(60, 64, 67, 0.3), 0px 1px 3px 1px rgba(60, 64, 67, 0.15);\n",
              "      fill: #174EA6;\n",
              "    }\n",
              "\n",
              "    [theme=dark] .colab-df-convert {\n",
              "      background-color: #3B4455;\n",
              "      fill: #D2E3FC;\n",
              "    }\n",
              "\n",
              "    [theme=dark] .colab-df-convert:hover {\n",
              "      background-color: #434B5C;\n",
              "      box-shadow: 0px 1px 3px 1px rgba(0, 0, 0, 0.15);\n",
              "      filter: drop-shadow(0px 1px 2px rgba(0, 0, 0, 0.3));\n",
              "      fill: #FFFFFF;\n",
              "    }\n",
              "  </style>\n",
              "\n",
              "      <script>\n",
              "        const buttonEl =\n",
              "          document.querySelector('#df-c5ee57f7-7549-4dcc-a34f-312f64e11ce6 button.colab-df-convert');\n",
              "        buttonEl.style.display =\n",
              "          google.colab.kernel.accessAllowed ? 'block' : 'none';\n",
              "\n",
              "        async function convertToInteractive(key) {\n",
              "          const element = document.querySelector('#df-c5ee57f7-7549-4dcc-a34f-312f64e11ce6');\n",
              "          const dataTable =\n",
              "            await google.colab.kernel.invokeFunction('convertToInteractive',\n",
              "                                                     [key], {});\n",
              "          if (!dataTable) return;\n",
              "\n",
              "          const docLinkHtml = 'Like what you see? Visit the ' +\n",
              "            '<a target=\"_blank\" href=https://colab.research.google.com/notebooks/data_table.ipynb>data table notebook</a>'\n",
              "            + ' to learn more about interactive tables.';\n",
              "          element.innerHTML = '';\n",
              "          dataTable['output_type'] = 'display_data';\n",
              "          await google.colab.output.renderOutput(dataTable, element);\n",
              "          const docLink = document.createElement('div');\n",
              "          docLink.innerHTML = docLinkHtml;\n",
              "          element.appendChild(docLink);\n",
              "        }\n",
              "      </script>\n",
              "    </div>\n",
              "  </div>\n",
              "  "
            ]
          },
          "metadata": {},
          "execution_count": 10
        }
      ]
    },
    {
      "cell_type": "code",
      "source": [
        "# dummy variables for State\n",
        "inter16 = pd.get_dummies(inter16, columns = ['State'])\n",
        "voter16 = pd.get_dummies(voter16, columns = ['State'])"
      ],
      "metadata": {
        "id": "p2luGk__ZNEX"
      },
      "execution_count": 11,
      "outputs": []
    },
    {
      "cell_type": "code",
      "source": [
        "#Original Model\n",
        "y = voter16['Label (>mean 0.872)']\n",
        "X = inter16.iloc[:,1:]\n",
        "\n",
        "X_train, X_test, y_train, y_test = train_test_split(X, y, test_size = .3, random_state = 1)\n",
        "\n",
        "mod1 = LogisticRegression(random_state = 1, solver = 'liblinear').fit(X_train, y_train)\n",
        "\n",
        "# majority class classifier\n",
        "print(y_test.mean())\n",
        "print(mod1.score(X_test, y_test))"
      ],
      "metadata": {
        "colab": {
          "base_uri": "https://localhost:8080/"
        },
        "id": "b343xk29ZQF2",
        "outputId": "1c36dc44-225e-480e-f857-b78be8338ae2"
      },
      "execution_count": 12,
      "outputs": [
        {
          "output_type": "stream",
          "name": "stdout",
          "text": [
            "0.625\n",
            "0.6875\n"
          ]
        }
      ]
    },
    {
      "cell_type": "code",
      "source": [
        "#Refining measures\n",
        "inter = inter16.drop(labels = ['Poverty', 'Winning Margin', 'BG(Y=1,N=0)'], axis = 1)\n",
        "\n",
        "y = voter16['Label (>mean 0.872)']\n",
        "X = inter.iloc[:,1:]\n",
        "\n",
        "X_train, X_test, y_train, y_test = train_test_split(X, y, test_size = .3, random_state = 1)\n",
        "\n",
        "mod2= LogisticRegression(random_state = 1, solver = 'liblinear').fit(X_train, y_train)\n",
        "print(y_test.mean())\n",
        "print(mod2.score(X_test, y_test))"
      ],
      "metadata": {
        "colab": {
          "base_uri": "https://localhost:8080/"
        },
        "id": "U-4UCcBZZ-Ab",
        "outputId": "a816d430-7bf2-4bb7-ecec-381fcd83d17b"
      },
      "execution_count": 13,
      "outputs": [
        {
          "output_type": "stream",
          "name": "stdout",
          "text": [
            "0.625\n",
            "0.375\n"
          ]
        }
      ]
    },
    {
      "cell_type": "code",
      "source": [
        "pov = inter16.drop(labels = ['Households with computer', 'internet access.'], axis = 1)\n",
        "\n",
        "y = voter16['Label (>mean 0.872)']\n",
        "X = pov.iloc[:,1:]\n",
        "\n",
        "X_train, X_test, y_train, y_test = train_test_split(X, y, test_size = .3, random_state = 1)\n",
        "\n",
        "mod3= LogisticRegression(random_state = 1, solver = 'liblinear').fit(X_train, y_train)\n",
        "print(y_test.mean())\n",
        "print(mod3.score(X_test, y_test))"
      ],
      "metadata": {
        "colab": {
          "base_uri": "https://localhost:8080/"
        },
        "id": "T6Pey9q-aaGH",
        "outputId": "e3400372-e246-48a4-93ff-d9b27aa404e5"
      },
      "execution_count": 15,
      "outputs": [
        {
          "output_type": "stream",
          "name": "stdout",
          "text": [
            "0.625\n",
            "0.375\n"
          ]
        }
      ]
    },
    {
      "cell_type": "code",
      "source": [
        "dict(zip(mod2.feature_names_in_, mod2.coef_[0]))"
      ],
      "metadata": {
        "colab": {
          "base_uri": "https://localhost:8080/"
        },
        "id": "wizvFr-hlNNv",
        "outputId": "48d4cd5f-b7d0-41b9-ce6b-5b5dc790dad8"
      },
      "execution_count": 16,
      "outputs": [
        {
          "output_type": "execute_result",
          "data": {
            "text/plain": [
              "{'internet access.': -0.002268938499832133,\n",
              " 'State_Alabama ...................................................': -0.311685413783106,\n",
              " 'State_Alaska ...................................................': -0.3060141747924848,\n",
              " 'State_Arizona ....................................................': 0.0,\n",
              " 'State_Arkansas ..................................................': 0.0,\n",
              " 'State_California ........................................': 0.5013907273173555,\n",
              " 'State_Colorado ..................................................': 0.5021603311265305,\n",
              " 'State_Connecticut ............................................': 0.5008817179101951,\n",
              " 'State_Delaware ............................................................................': -0.30742929581050943,\n",
              " 'State_District of Columbia ................................................................................. . .': 0.49801911014175554,\n",
              " 'State_Florida ...........................................................': 0.4991515677535497,\n",
              " 'State_Georgia ......................................................': -0.30878347049068716,\n",
              " 'State_Hawaii .......................................................': -0.3074395976447543,\n",
              " 'State_Idaho .............................................................................................': 0.49802182297130504,\n",
              " 'State_Illinois ..........................': -0.3081855494977046,\n",
              " 'State_Indiana ..............................................................................': -0.309397843263201,\n",
              " 'State_Iowa .............................': 0.49884672287394327,\n",
              " 'State_Kansas ..............................................': -0.3089364885981576,\n",
              " 'State_Kentucky ..............................................................': -0.31041288633541647,\n",
              " 'State_Louisiana ...................................................': -0.3120564450124231,\n",
              " 'State_Maine .........................................................': 0.4990401088250832,\n",
              " 'State_Maryland .............................................': 0.5015046115877934,\n",
              " 'State_Massachusetts ......................................': 0.0,\n",
              " 'State_Michigan ....................................................': 0.0,\n",
              " 'State_Minnesota .............................................': 0.5007463855126518,\n",
              " 'State_Mississippi ................................................': -0.3136361584808774,\n",
              " 'State_Missouri ...................................................': -0.309372967621021,\n",
              " 'State_Montana ...................................................': 0.0,\n",
              " 'State_Nebraska .............................................................................': 0.0,\n",
              " 'State_Nevada ...............................................................................': -0.3086944260481738,\n",
              " 'State_New Hampshire ........................': 0.0,\n",
              " 'State_New Jersey ...........................': 0.0,\n",
              " 'State_New Mexico ................................................': -0.3119703105496548,\n",
              " 'State_New York ................................................': 0.0,\n",
              " 'State_North Carolina ..........................................': 0.0,\n",
              " 'State_North Dakota .........................................': -0.3085771278724922,\n",
              " 'State_Ohio ...................................................................': 0.49907813035371246,\n",
              " 'State_Oklahoma ..................................................': -0.3103495888193133,\n",
              " 'State_Oregon .....................................................': 0.5011589969787245,\n",
              " 'State_Pennsylvania ...............................................': -0.30886651725019243,\n",
              " 'State_Rhode Island ..............................................': 0.0,\n",
              " 'State_South Carolina ............................................': -0.31069395461662935,\n",
              " 'State_South Dakota ............................................': 0.0,\n",
              " 'State_Tennessee ............................................': -0.31080428316475395,\n",
              " 'State_Texas ...............................................................': -0.30886357776477624,\n",
              " 'State_Utah ...............................................................': 0.0,\n",
              " 'State_Vermont .........................................................': -0.3083693616280079,\n",
              " 'State_Virginia .........................................................': 0.500556205591598,\n",
              " 'State_Washington ...........................................': 0.0,\n",
              " 'State_West Virginia ..............................................': -0.31190892541932635,\n",
              " 'State_Wisconsin ............................................': 0.0,\n",
              " 'State_Wyoming .................................................': 0.0}"
            ]
          },
          "metadata": {},
          "execution_count": 16
        }
      ]
    },
    {
      "cell_type": "code",
      "source": [
        "#Feature Importance W/ Logistic Regression\n",
        "\n",
        "#with computer only\n",
        "y = voter16['Label (>mean 0.872)']\n",
        "X = inter16.iloc[:,2:]\n",
        "\n",
        "X_train, X_test, y_train, y_test = train_test_split(X, y, test_size = .3, random_state = 1)\n",
        "\n",
        "mod4= LogisticRegression(random_state = 1, solver = 'liblinear').fit(X_train, y_train)\n",
        "print(y_test.mean())\n",
        "print(mod4.score(X_test, y_test))"
      ],
      "metadata": {
        "colab": {
          "base_uri": "https://localhost:8080/"
        },
        "id": "YNwzuUVulS3j",
        "outputId": "05295166-f639-4d3b-c973-8dc33b276102"
      },
      "execution_count": 17,
      "outputs": [
        {
          "output_type": "stream",
          "name": "stdout",
          "text": [
            "0.625\n",
            "0.5625\n"
          ]
        }
      ]
    },
    {
      "cell_type": "code",
      "source": [
        "#with internet access only\n",
        "y = voter16['Label (>mean 0.872)']\n",
        "X = inter16.iloc[:,3:]\n",
        "\n",
        "X_train, X_test, y_train, y_test = train_test_split(X, y, test_size = .3, random_state = 1)\n",
        "\n",
        "mod4= LogisticRegression(random_state = 1, solver = 'liblinear').fit(X_train, y_train)\n",
        "print(y_test.mean())\n",
        "print(mod4.score(X_test, y_test))"
      ],
      "metadata": {
        "colab": {
          "base_uri": "https://localhost:8080/"
        },
        "id": "E7AM_gABliWB",
        "outputId": "de637aee-18ca-4391-f462-c03df1692748"
      },
      "execution_count": 18,
      "outputs": [
        {
          "output_type": "stream",
          "name": "stdout",
          "text": [
            "0.625\n",
            "0.375\n"
          ]
        }
      ]
    },
    {
      "cell_type": "code",
      "source": [
        "#with Poverty(2-year average) only\n",
        "y = voter16['Label (>mean 0.872)']\n",
        "X = inter16.iloc[:,4:]\n",
        "\n",
        "X_train, X_test, y_train, y_test = train_test_split(X, y, test_size = .3, random_state = 1)\n",
        "\n",
        "mod4= LogisticRegression(random_state = 1, solver = 'liblinear').fit(X_train, y_train)\n",
        "print(y_test.mean())\n",
        "print(mod4.score(X_test, y_test))"
      ],
      "metadata": {
        "colab": {
          "base_uri": "https://localhost:8080/"
        },
        "id": "aGuO5S7XlpII",
        "outputId": "28b15693-5809-4efb-9092-3b4fee23d15a"
      },
      "execution_count": 19,
      "outputs": [
        {
          "output_type": "stream",
          "name": "stdout",
          "text": [
            "0.625\n",
            "0.375\n"
          ]
        }
      ]
    },
    {
      "cell_type": "code",
      "source": [
        "#with Winning Margin only\n",
        "y = voter16['Label (>mean 0.872)']\n",
        "X = inter16.iloc[:,5:]\n",
        "\n",
        "X_train, X_test, y_train, y_test = train_test_split(X, y, test_size = .3, random_state = 1)\n",
        "\n",
        "mod4= LogisticRegression(random_state = 1, solver = 'liblinear').fit(X_train, y_train)\n",
        "print(y_test.mean())\n",
        "print(mod4.score(X_test, y_test))"
      ],
      "metadata": {
        "colab": {
          "base_uri": "https://localhost:8080/"
        },
        "id": "XJ-dN5lrlskc",
        "outputId": "d975c945-83c0-45d3-a121-b691c81cc9bb"
      },
      "execution_count": 21,
      "outputs": [
        {
          "output_type": "stream",
          "name": "stdout",
          "text": [
            "0.625\n",
            "0.375\n"
          ]
        }
      ]
    },
    {
      "cell_type": "code",
      "source": [
        "#with Battleground State only\n",
        "y = voter16['Label (>mean 0.872)']\n",
        "X = inter16.iloc[:,6:]\n",
        "\n",
        "X_train, X_test, y_train, y_test = train_test_split(X, y, test_size = .3, random_state = 1)\n",
        "\n",
        "mod4= LogisticRegression(random_state = 1, solver = 'liblinear').fit(X_train, y_train)\n",
        "print(y_test.mean())\n",
        "print(mod4.score(X_test, y_test))"
      ],
      "metadata": {
        "colab": {
          "base_uri": "https://localhost:8080/"
        },
        "id": "fraAzv10lyfm",
        "outputId": "103b1e2a-5fad-4aa9-b3ab-e07a059dcbab"
      },
      "execution_count": 22,
      "outputs": [
        {
          "output_type": "stream",
          "name": "stdout",
          "text": [
            "0.625\n",
            "0.375\n"
          ]
        }
      ]
    },
    {
      "cell_type": "code",
      "source": [
        "#Feature importance with Random Forest\n",
        "from sklearn.ensemble import RandomForestClassifier\n",
        "from sklearn.inspection import permutation_importance"
      ],
      "metadata": {
        "id": "kZzLlIfKoxT7"
      },
      "execution_count": 23,
      "outputs": []
    },
    {
      "cell_type": "code",
      "source": [
        "# Full model\n",
        "y = voter16['Label (>mean 0.872)']\n",
        "X = inter16.iloc[:,1:]\n",
        "\n",
        "X_train, X_test, y_train, y_test = train_test_split(X, y, test_size = .3, random_state = 1)\n",
        "\n",
        "fullforest = RandomForestClassifier(random_state=0).fit(X_train, y_train)\n",
        "\n",
        "fullforest.score(X_test, y_test)\n"
      ],
      "metadata": {
        "colab": {
          "base_uri": "https://localhost:8080/"
        },
        "id": "_nItpgVKo1vO",
        "outputId": "bd4ebaa7-269f-49cd-f44e-06dab89b0a01"
      },
      "execution_count": 24,
      "outputs": [
        {
          "output_type": "execute_result",
          "data": {
            "text/plain": [
              "0.5"
            ]
          },
          "metadata": {},
          "execution_count": 24
        }
      ]
    },
    {
      "cell_type": "code",
      "source": [
        "#without poverty & MR & BG data \n",
        "y = voter16['Label (>mean 0.872)']\n",
        "X = inter16.iloc[:,1:3]\n",
        "\n",
        "X_train, X_test, y_train, y_test = train_test_split(X, y, test_size = .3, random_state = 1)\n",
        "\n",
        "interforest = RandomForestClassifier(random_state=0).fit(X_train, y_train)\n",
        "\n",
        "interforest.score(X_test, y_test)"
      ],
      "metadata": {
        "colab": {
          "base_uri": "https://localhost:8080/"
        },
        "id": "aPcFRyr4o3c1",
        "outputId": "59b8608f-90c7-4244-d1da-ccc67519225f"
      },
      "execution_count": 27,
      "outputs": [
        {
          "output_type": "execute_result",
          "data": {
            "text/plain": [
              "0.625"
            ]
          },
          "metadata": {},
          "execution_count": 27
        }
      ]
    },
    {
      "cell_type": "code",
      "source": [
        "#without internet data\n",
        "y = voter16['Label (>mean 0.872)']\n",
        "X = inter16.iloc[:,4:6]\n",
        "\n",
        "X_train, X_test, y_train, y_test = train_test_split(X, y, test_size = .3, random_state = 1)\n",
        "\n",
        "povforest = RandomForestClassifier(random_state=0).fit(X_train, y_train)\n",
        "\n",
        "povforest.score(X_test, y_test)"
      ],
      "metadata": {
        "colab": {
          "base_uri": "https://localhost:8080/"
        },
        "id": "Hph8sjHvo8_j",
        "outputId": "dcc26322-e1d2-4003-a91d-1351910e393a"
      },
      "execution_count": 26,
      "outputs": [
        {
          "output_type": "execute_result",
          "data": {
            "text/plain": [
              "0.4375"
            ]
          },
          "metadata": {},
          "execution_count": 26
        }
      ]
    },
    {
      "cell_type": "code",
      "source": [
        "#without MR and BG data\n",
        "y = voter16['Label (>mean 0.872)']\n",
        "X = inter16.iloc[:,1:4]\n",
        "\n",
        "X_train, X_test, y_train, y_test = train_test_split(X, y, test_size = .3, random_state = 1)\n",
        "\n",
        "povforest = RandomForestClassifier(random_state=0).fit(X_train, y_train)\n",
        "\n",
        "povforest.score(X_test, y_test)"
      ],
      "metadata": {
        "colab": {
          "base_uri": "https://localhost:8080/"
        },
        "id": "creU8hPkpqTA",
        "outputId": "c8e0b53b-6a6a-4538-d4b3-035981b55a6b"
      },
      "execution_count": 28,
      "outputs": [
        {
          "output_type": "execute_result",
          "data": {
            "text/plain": [
              "0.625"
            ]
          },
          "metadata": {},
          "execution_count": 28
        }
      ]
    }
  ]
}